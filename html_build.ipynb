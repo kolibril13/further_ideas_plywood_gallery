{
 "cells": [
  {
   "cell_type": "markdown",
   "metadata": {},
   "source": [
    "# Second step of setting up your plywood-gallery! 🪵🪓\n",
    "\n",
    "Now we want to set up the  `index.html` document.  \n",
    "\n",
    "An html template is shipped with the plywood gallery as a jinja2 template.   \n",
    "\n",
    "And now it is time to set up your project details.  \n",
    "\n",
    "This needs two steps:\n",
    "1.  go to `html_configuration.yaml` and paste all your project information in the yaml format.  \n",
    "2.  come back to this notebook and run the `generate_html_from_jinja2_and_json` command in the below cell.\n",
    "\n",
    "Note:  \n",
    "\n",
    "From time to time, a new html template will be shipped with the plywood gallery. In this case you want to update, just run the command `generate_html_from_jinja2_and_yaml` again, and you don't have to setup things again.\n",
    "\n",
    "But why do we use yaml and not json?  \n",
    "yaml is the better format for providing html snippets, as one can both use the \" and the ' characters in strings."
   ]
  },
  {
   "cell_type": "code",
   "execution_count": 1,
   "metadata": {},
   "outputs": [
    {
     "name": "stdout",
     "output_type": "stream",
     "text": [
      "Sucessfuly read False\n"
     ]
    },
    {
     "ename": "TypeError",
     "evalue": "'NoneType' object is not subscriptable",
     "output_type": "error",
     "traceback": [
      "\u001b[0;31m---------------------------------------------------------------------------\u001b[0m",
      "\u001b[0;31mTypeError\u001b[0m                                 Traceback (most recent call last)",
      "\u001b[0;32m/var/folders/c3/3bzrl3qx043bknt1ycn3fcym0000gn/T/ipykernel_67730/185142138.py\u001b[0m in \u001b[0;36m<cell line: 3>\u001b[0;34m()\u001b[0m\n\u001b[1;32m      1\u001b[0m \u001b[0;32mfrom\u001b[0m \u001b[0mpathlib\u001b[0m \u001b[0;32mimport\u001b[0m \u001b[0mPath\u001b[0m\u001b[0;34m\u001b[0m\u001b[0;34m\u001b[0m\u001b[0m\n\u001b[1;32m      2\u001b[0m \u001b[0;32mfrom\u001b[0m \u001b[0mplywood_gallery\u001b[0m \u001b[0;32mimport\u001b[0m \u001b[0mgenerate_html_from_jinja2_and_yaml\u001b[0m\u001b[0;34m\u001b[0m\u001b[0;34m\u001b[0m\u001b[0m\n\u001b[0;32m----> 3\u001b[0;31m \u001b[0mgenerate_html_from_jinja2_and_yaml\u001b[0m\u001b[0;34m(\u001b[0m\u001b[0;34m)\u001b[0m\u001b[0;34m\u001b[0m\u001b[0;34m\u001b[0m\u001b[0m\n\u001b[0m",
      "\u001b[0;32m~/projects/plywood-gallery/plywood_gallery/generate_html.py\u001b[0m in \u001b[0;36mgenerate_html_from_jinja2_and_yaml\u001b[0;34m(yaml_file, index_html_file)\u001b[0m\n\u001b[1;32m     25\u001b[0m         \u001b[0mprint\u001b[0m\u001b[0;34m(\u001b[0m\u001b[0;34mf\"Sucessfuly read {yaml_file}\"\u001b[0m\u001b[0;34m)\u001b[0m\u001b[0;34m\u001b[0m\u001b[0;34m\u001b[0m\u001b[0m\n\u001b[1;32m     26\u001b[0m \u001b[0;34m\u001b[0m\u001b[0m\n\u001b[0;32m---> 27\u001b[0;31m     \u001b[0mproject_name\u001b[0m \u001b[0;34m=\u001b[0m \u001b[0mhtml_configuration_parameter\u001b[0m\u001b[0;34m[\u001b[0m\u001b[0;34m\"project_name\"\u001b[0m\u001b[0;34m]\u001b[0m\u001b[0;34m\u001b[0m\u001b[0;34m\u001b[0m\u001b[0m\n\u001b[0m\u001b[1;32m     28\u001b[0m     \u001b[0mrepository_url\u001b[0m \u001b[0;34m=\u001b[0m \u001b[0mhtml_configuration_parameter\u001b[0m\u001b[0;34m[\u001b[0m\u001b[0;34m\"repository_url\"\u001b[0m\u001b[0;34m]\u001b[0m\u001b[0;34m\u001b[0m\u001b[0;34m\u001b[0m\u001b[0m\n\u001b[1;32m     29\u001b[0m     \u001b[0mdescription\u001b[0m \u001b[0;34m=\u001b[0m \u001b[0mhtml_configuration_parameter\u001b[0m\u001b[0;34m[\u001b[0m\u001b[0;34m\"description\"\u001b[0m\u001b[0;34m]\u001b[0m\u001b[0;34m\u001b[0m\u001b[0;34m\u001b[0m\u001b[0m\n",
      "\u001b[0;31mTypeError\u001b[0m: 'NoneType' object is not subscriptable"
     ]
    }
   ],
   "source": [
    "from pathlib import Path\n",
    "from plywood_gallery import generate_html_from_jinja2_and_yaml\n",
    "generate_html_from_jinja2_and_yaml(index_html_file=\"hello_index.html\")"
   ]
  },
  {
   "cell_type": "code",
   "execution_count": null,
   "metadata": {},
   "outputs": [],
   "source": [
    "#from plywood_gallery import ChapterManager\n",
    "#ChapterManager.open_webpage()"
   ]
  }
 ],
 "metadata": {
  "interpreter": {
   "hash": "2952ffede85d5ee814e7d7d53bb189c2d6659c3837bb58400800b4ce3939b697"
  },
  "kernelspec": {
   "display_name": "Python 3.9.10 ('plywood_gallery_env': venv)",
   "language": "python",
   "name": "python3"
  },
  "language_info": {
   "codemirror_mode": {
    "name": "ipython",
    "version": 3
   },
   "file_extension": ".py",
   "mimetype": "text/x-python",
   "name": "python",
   "nbconvert_exporter": "python",
   "pygments_lexer": "ipython3",
   "version": "3.9.12"
  },
  "orig_nbformat": 4
 },
 "nbformat": 4,
 "nbformat_minor": 2
}
