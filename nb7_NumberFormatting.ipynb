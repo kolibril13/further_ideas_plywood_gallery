{
 "cells": [
  {
   "cell_type": "code",
   "execution_count": 1,
   "metadata": {},
   "outputs": [
    {
     "name": "stdout",
     "output_type": "stream",
     "text": [
      "Plywood Gallery v0.0.3\n",
      "This path and all its child elements will be removed:/Users/jan-hendrik/projects/further_ideas_plywood_gallery/gallery_assets_7_NumberFormatting\n",
      "Sucessfully created /Users/jan-hendrik/projects/further_ideas_plywood_gallery/gallery_assets_7_NumberFormatting/gallery_parameters.json!🦫\n"
     ]
    }
   ],
   "source": [
    "from plywood_gallery import ChapterConfig\n",
    "\n",
    "ChapterConfig.set_assets_folder_name(\"gallery_assets_7_NumberFormatting\")\n",
    "ChapterConfig.clean_all(skip_warning=True)\n",
    "ChapterConfig.generate_json()\n",
    "ChapterConfig.set_chapter_name(\"Number Formatting\")\n",
    "\n",
    "\n",
    "import matplotlib.pyplot as plt\n",
    "plt.rcParams['figure.dpi'] = 70  \n",
    "\n",
    "header = '-p Header.png --celltype Header  --style \"width: 380px; height: auto; display:block\"'\n",
    "normal = '-p Normal.png --celltype Normal  --style \"width: 380px; height: auto; display:block\"'"
   ]
  },
  {
   "cell_type": "code",
   "execution_count": 2,
   "metadata": {},
   "outputs": [],
   "source": [
    "import matplotlib.pyplot as plt\n",
    "from matplotlib.transforms import Affine2D\n",
    "\n",
    "plt.rcParams['font.family'] = 'monospace'\n",
    "\n",
    "def rainbow_text(x, y, strings, colors, orientation=\"horizontal\", ax=None, **kwargs):\n",
    "    if ax is None:\n",
    "        ax = plt.gca()\n",
    "    t = ax.transData\n",
    "    canvas = ax.figure.canvas\n",
    "    for s, c in zip(strings, colors):\n",
    "        text = ax.text(x, y, s, color=c, transform=t, **kwargs)\n",
    "        text.draw(canvas.get_renderer())\n",
    "        ex = text.get_window_extent()\n",
    "        if orientation == \"horizontal\":\n",
    "            t = text.get_transform() + Affine2D().translate(ex.width, 0)\n",
    "\n",
    "def plot_text(words, colors):\n",
    "    fig, ax = plt.subplots(figsize=(18, 1), facecolor=\"#F7F5F3\")\n",
    "    rainbow_text(0.01, 0.2, words, colors, size=40)\n",
    "    ax.axis(\"off\")\n"
   ]
  },
  {
   "cell_type": "code",
   "execution_count": 3,
   "metadata": {},
   "outputs": [
    {
     "data": {
      "text/plain": [
       "(0.0, 1.0, 0.0, 1.0)"
      ]
     },
     "metadata": {},
     "output_type": "display_data"
    },
    {
     "data": {
      "image/png": "[encoded data removed]",
      "text/plain": [
       "<Figure size 1260x140 with 1 Axes>"
      ]
     },
     "metadata": {},
     "output_type": "display_data"
    }
   ],
   "source": [
    "%%capture_png $header\n",
    "\n",
    "n = 7\n",
    "pi = 3.14159\n",
    "\n",
    "fig, ax = plt.subplots(figsize=(18, 2), facecolor=\"#F7F5F3\") # NOT\n",
    "rainbow_text(0.01, 0.65, f\" {n = }\", [\"red\"]* 10, size=40) # NOT\n",
    "rainbow_text(0.01, 0.2, f\"{pi = }\", [\"red\"]* 20, size=40) # NOT\n",
    "ax.axis(\"off\") # NOT"
   ]
  },
  {
   "cell_type": "code",
   "execution_count": 4,
   "metadata": {},
   "outputs": [
    {
     "data": {
      "image/png": "[encoded data removed]",
      "text/plain": [
       "<Figure size 1260x70 with 1 Axes>"
      ]
     },
     "metadata": {},
     "output_type": "display_data"
    }
   ],
   "source": [
    "%%capture_png $normal\n",
    "t = f\"{n}\"\n",
    "plot_text(t, [\"green\"]*len(t)) # NOT"
   ]
  },
  {
   "cell_type": "code",
   "execution_count": 5,
   "metadata": {},
   "outputs": [
    {
     "data": {
      "image/png": "[encoded data removed]",
      "text/plain": [
       "<Figure size 1260x70 with 1 Axes>"
      ]
     },
     "metadata": {},
     "output_type": "display_data"
    }
   ],
   "source": [
    "%%capture_png $normal\n",
    "t = f\"{n:0>2}\"\n",
    "plot_text(t, [\"green\"]*len(t)) # NOT"
   ]
  },
  {
   "cell_type": "code",
   "execution_count": 6,
   "metadata": {},
   "outputs": [
    {
     "data": {
      "image/png": "[encoded data removed]",
      "text/plain": [
       "<Figure size 1260x70 with 1 Axes>"
      ]
     },
     "metadata": {},
     "output_type": "display_data"
    }
   ],
   "source": [
    "%%capture_png $normal\n",
    "t = f\"{n:03}\" # '03' is shortcut for '0>3'\n",
    "plot_text(t, [\"green\"]*len(t)) # NOT"
   ]
  },
  {
   "cell_type": "code",
   "execution_count": 7,
   "metadata": {},
   "outputs": [
    {
     "data": {
      "image/png": "[encoded data removed]",
      "text/plain": [
       "<Figure size 1260x70 with 1 Axes>"
      ]
     },
     "metadata": {},
     "output_type": "display_data"
    }
   ],
   "source": [
    "%%capture_png $normal\n",
    "t = f\"{n:04}\" \n",
    "plot_text(t, [\"green\"]*len(t)) # NOT"
   ]
  },
  {
   "cell_type": "code",
   "execution_count": 8,
   "metadata": {},
   "outputs": [
    {
     "data": {
      "image/png": "[encoded data removed]",
      "text/plain": [
       "<Figure size 1260x70 with 1 Axes>"
      ]
     },
     "metadata": {},
     "output_type": "display_data"
    }
   ],
   "source": [
    "%%capture_png $normal\n",
    "t = f\"{n:*>5}\"\n",
    "plot_text(t, [\"green\"]*len(t)) # NOT"
   ]
  },
  {
   "cell_type": "code",
   "execution_count": 9,
   "metadata": {},
   "outputs": [
    {
     "data": {
      "image/png": "[encoded data removed]",
      "text/plain": [
       "<Figure size 1260x70 with 1 Axes>"
      ]
     },
     "metadata": {},
     "output_type": "display_data"
    }
   ],
   "source": [
    "%%capture_png $normal\n",
    "t = f\"{n:*^5}\"\n",
    "plot_text(t, [\"green\"]*len(t)) # NOT"
   ]
  },
  {
   "cell_type": "code",
   "execution_count": 10,
   "metadata": {},
   "outputs": [
    {
     "data": {
      "image/png": "[encoded data removed]",
      "text/plain": [
       "<Figure size 1260x70 with 1 Axes>"
      ]
     },
     "metadata": {},
     "output_type": "display_data"
    }
   ],
   "source": [
    "%%capture_png $normal\n",
    "t = f\"{n:*<5}\"\n",
    "plot_text(t, [\"green\"]*len(t)) # NOT"
   ]
  },
  {
   "cell_type": "code",
   "execution_count": 11,
   "metadata": {},
   "outputs": [
    {
     "data": {
      "image/png": "[encoded data removed]",
      "text/plain": [
       "<Figure size 1260x70 with 1 Axes>"
      ]
     },
     "metadata": {},
     "output_type": "display_data"
    }
   ],
   "source": [
    "%%capture_png $normal\n",
    "t = f\"{7:.1e}\"\n",
    "plot_text(t, [\"blue\"]*len(t)) # NOT"
   ]
  },
  {
   "cell_type": "code",
   "execution_count": 12,
   "metadata": {},
   "outputs": [
    {
     "data": {
      "image/png": "[encoded data removed]",
      "text/plain": [
       "<Figure size 1260x70 with 1 Axes>"
      ]
     },
     "metadata": {},
     "output_type": "display_data"
    }
   ],
   "source": [
    "%%capture_png $normal\n",
    "t = f\"{7:.1E}\"\n",
    "plot_text(t, [\"blue\"]*len(t)) # NOT"
   ]
  },
  {
   "cell_type": "code",
   "execution_count": 13,
   "metadata": {},
   "outputs": [
    {
     "data": {
      "image/png": "[encoded data removed]",
      "text/plain": [
       "<Figure size 1260x70 with 1 Axes>"
      ]
     },
     "metadata": {},
     "output_type": "display_data"
    }
   ],
   "source": [
    "%%capture_png $normal\n",
    "t = f\"{7:.2E}\"\n",
    "plot_text(t, [\"blue\"]*len(t)) # NOT"
   ]
  },
  {
   "cell_type": "code",
   "execution_count": 14,
   "metadata": {},
   "outputs": [
    {
     "data": {
      "image/png": "[encoded data removed]",
      "text/plain": [
       "<Figure size 1260x70 with 1 Axes>"
      ]
     },
     "metadata": {},
     "output_type": "display_data"
    }
   ],
   "source": [
    "%%capture_png $normal\n",
    "t = f\"{pi:.1f}\"\n",
    "plot_text(t, [\"purple\"]*len(t)) # NOT"
   ]
  },
  {
   "cell_type": "code",
   "execution_count": 15,
   "metadata": {},
   "outputs": [
    {
     "data": {
      "image/png": "[encoded data removed]",
      "text/plain": [
       "<Figure size 1260x70 with 1 Axes>"
      ]
     },
     "metadata": {},
     "output_type": "display_data"
    }
   ],
   "source": [
    "%%capture_png $normal\n",
    "t = f\"{pi:.2f}\"\n",
    "plot_text(t, [\"purple\"]*len(t)) # NOT"
   ]
  },
  {
   "cell_type": "code",
   "execution_count": 16,
   "metadata": {},
   "outputs": [
    {
     "data": {
      "image/png": "[encoded data removed]",
      "text/plain": [
       "<Figure size 1260x70 with 1 Axes>"
      ]
     },
     "metadata": {},
     "output_type": "display_data"
    }
   ],
   "source": [
    "%%capture_png $normal\n",
    "t = f\"{pi:.3f}\"\n",
    "plot_text(t, [\"purple\"]*len(t)) # NOT"
   ]
  },
  {
   "cell_type": "code",
   "execution_count": 17,
   "metadata": {},
   "outputs": [
    {
     "data": {
      "image/png": "[encoded data removed]",
      "text/plain": [
       "<Figure size 1260x70 with 1 Axes>"
      ]
     },
     "metadata": {},
     "output_type": "display_data"
    }
   ],
   "source": [
    "%%capture_png $normal\n",
    "t = f\"{0.4:8.2f}    Aligment at decimal separator\"\n",
    "plot_text(t, [\"orange\"]*len(t)) # NOT"
   ]
  },
  {
   "cell_type": "code",
   "execution_count": 18,
   "metadata": {},
   "outputs": [
    {
     "data": {
      "image/png": "[encoded data removed]",
      "text/plain": [
       "<Figure size 1260x70 with 1 Axes>"
      ]
     },
     "metadata": {},
     "output_type": "display_data"
    }
   ],
   "source": [
    "%%capture_png $normal\n",
    "t = f\"{4:8.2f}\"\n",
    "plot_text(t, [\"orange\"]*len(t)) # NOT"
   ]
  },
  {
   "cell_type": "code",
   "execution_count": 19,
   "metadata": {},
   "outputs": [
    {
     "data": {
      "image/png": "[encoded data removed]",
      "text/plain": [
       "<Figure size 1260x70 with 1 Axes>"
      ]
     },
     "metadata": {},
     "output_type": "display_data"
    }
   ],
   "source": [
    "%%capture_png $normal\n",
    "t = f\"{40:8.2f}\"\n",
    "plot_text(t, [\"orange\"]*len(t)) # NOT"
   ]
  },
  {
   "cell_type": "code",
   "execution_count": 20,
   "metadata": {},
   "outputs": [
    {
     "data": {
      "image/png": "[encoded data removed]",
      "text/plain": [
       "<Figure size 1260x70 with 1 Axes>"
      ]
     },
     "metadata": {},
     "output_type": "display_data"
    }
   ],
   "source": [
    "%%capture_png $normal\n",
    "t = f\"{400:8.2f}\"\n",
    "plot_text(t, [\"orange\"]*len(t)) # NOT"
   ]
  },
  {
   "cell_type": "code",
   "execution_count": 21,
   "metadata": {},
   "outputs": [
    {
     "data": {
      "image/png": "[encoded data removed]",
      "text/plain": [
       "<Figure size 1260x70 with 1 Axes>"
      ]
     },
     "metadata": {},
     "output_type": "display_data"
    }
   ],
   "source": [
    "%%capture_png $normal\n",
    "t = f\"{4000.00:8.2f}\"\n",
    "plot_text(t, [\"orange\"]*len(t)) # NOT"
   ]
  },
  {
   "cell_type": "code",
   "execution_count": 22,
   "metadata": {},
   "outputs": [
    {
     "data": {
      "image/png": "[encoded data removed]",
      "text/plain": [
       "<Figure size 1260x70 with 1 Axes>"
      ]
     },
     "metadata": {},
     "output_type": "display_data"
    }
   ],
   "source": [
    "%%capture_png $normal\n",
    "t = f\"{40000.00:8.2f}\"\n",
    "plot_text(t, [\"orange\"]*len(t)) # NOT"
   ]
  },
  {
   "cell_type": "code",
   "execution_count": 23,
   "metadata": {},
   "outputs": [
    {
     "data": {
      "image/png": "[encoded data removed]",
      "text/plain": [
       "<Figure size 1260x70 with 1 Axes>"
      ]
     },
     "metadata": {},
     "output_type": "display_data"
    }
   ],
   "source": [
    "%%capture_png $normal\n",
    "t = f\"{40000.00:,.2f}\"\n",
    "plot_text(t, [\"orange\"]*len(t)) # NOT"
   ]
  },
  {
   "cell_type": "code",
   "execution_count": 24,
   "metadata": {},
   "outputs": [
    {
     "data": {
      "image/png": "[encoded data removed]",
      "text/plain": [
       "<Figure size 1260x70 with 1 Axes>"
      ]
     },
     "metadata": {},
     "output_type": "display_data"
    }
   ],
   "source": [
    "%%capture_png $normal\n",
    "t = f\"{40000.00:_.2f}\"\n",
    "plot_text(t, [\"orange\"]*len(t)) # NOT"
   ]
  },
  {
   "cell_type": "code",
   "execution_count": 25,
   "metadata": {},
   "outputs": [
    {
     "data": {
      "image/png": "[encoded data removed]",
      "text/plain": [
       "<Figure size 1260x70 with 1 Axes>"
      ]
     },
     "metadata": {},
     "output_type": "display_data"
    }
   ],
   "source": [
    "%%capture_png $normal\n",
    "t = f\"{40000.00:_.2f}\".replace('_', ' ')\n",
    "plot_text(t, [\"orange\"]*len(t)) # NOT"
   ]
  },
  {
   "cell_type": "code",
   "execution_count": 26,
   "metadata": {},
   "outputs": [
    {
     "data": {
      "image/png": "[encoded data removed]",
      "text/plain": [
       "<Figure size 1260x70 with 1 Axes>"
      ]
     },
     "metadata": {},
     "output_type": "display_data"
    }
   ],
   "source": [
    "%%capture_png $normal\n",
    "t = f\" {'Alignment after long line':<33}202\"\n",
    "plot_text(t, [\"black\"]*len(t)) # NOT"
   ]
  },
  {
   "cell_type": "code",
   "execution_count": 27,
   "metadata": {},
   "outputs": [
    {
     "data": {
      "image/png": "[encoded data removed]",
      "text/plain": [
       "<Figure size 1260x70 with 1 Axes>"
      ]
     },
     "metadata": {},
     "output_type": "display_data"
    }
   ],
   "source": [
    "%%capture_png $normal\n",
    "t = f\" {'Hi, short line':<33}202\"\n",
    "plot_text(t, [\"black\"]*len(t)) # NOT"
   ]
  }
 ],
 "metadata": {
  "kernelspec": {
   "display_name": "Python 3 (ipykernel)",
   "language": "python",
   "name": "python3"
  },
  "language_info": {
   "codemirror_mode": {
    "name": "ipython",
    "version": 3
   },
   "file_extension": ".py",
   "mimetype": "text/x-python",
   "name": "python",
   "nbconvert_exporter": "python",
   "pygments_lexer": "ipython3",
   "version": "3.9.12"
  }
 },
 "nbformat": 4,
 "nbformat_minor": 4
}
